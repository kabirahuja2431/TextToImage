{
 "cells": [
  {
   "cell_type": "code",
   "execution_count": 1,
   "metadata": {},
   "outputs": [
    {
     "name": "stderr",
     "output_type": "stream",
     "text": [
      "/home/kabir/anaconda3/lib/python3.6/importlib/_bootstrap.py:205: RuntimeWarning: compiletime version 3.5 of module 'tensorflow.python.framework.fast_tensor_util' does not match runtime version 3.6\n",
      "  return f(*args, **kwds)\n"
     ]
    }
   ],
   "source": [
    "import numpy as np\n",
    "import tensorflow as tf"
   ]
  },
  {
   "cell_type": "code",
   "execution_count": 4,
   "metadata": {
    "collapsed": true
   },
   "outputs": [],
   "source": [
    "class StackGAN():\n",
    "    def __init__(self,image_dims):\n",
    "        self.s = image_dims\n",
    "        self.s2,self.s4,self.s8,self.s16 = self.s//2,self.s//4,self.s//8,self.s//16\n",
    "        self.gfdim = 128\n",
    "    \n",
    "    def generator(z):\n",
    "        z = tf.contrib.layers.flatten(inputs=z)\n",
    "        output_shape = (self.s16**2)*self.gfdim\n",
    "        W1 = tf.get_variable(initializer=tf.random_normal_initializer(stddev=0.2),name='W1',shape= [z.shape[1],output_shape])\n",
    "        b1 = tf.get_variable(initializer=tf.constant_initializer(0.0),name = 'b1', shape = [output_shape])\n",
    "        fc1 = tf.matmul(z,W1) + b1\n",
    "        bn1 = tf.layers.batch_normalization(fc1,axis=1)\n",
    "        rs1 = tf.reshape(bn1,shape=[-1,self.s16,self.s16,self.gfdim*8])\n",
    "        \n",
    "        Wc1 = tf.get_variable(name='Wc1', initializer=tf.truncated_normal_initializer(stddev=0.02),shape = [1,1,self.gfdim,self.gfdim*2])\n",
    "        conv1 = tf.nn.conv2d(input=rs1,filter=Wc1,strides = [1,1,1,1],padding = 'SAME')\n",
    "        bn2 = tf.layers.batch_normalization(conv1)\n",
    "        rel1 = tf.nn.relu(bn2)\n",
    "        Wc2 = tf.get_variable(name='Wc2', initializer=tf.truncated_normal_initializer(stddev=0.02), shape=[3,3,self.gfdim*2,self.gfdim*2])\n",
    "        conv2 = tf.nn.conv2d(input=rel1, filter=Wc2, strides=[1,1,1,1],padding='SAME')\n",
    "        bn3 = tf.layers.batch_normalisation(conv2)\n",
    "        rel2 = tf.nn.relu(bn3)\n",
    "        Wc3 = tf.get_variable(name='Wc3', initializer=tf.truncated_normal_initializer(stddev=0.02), shape=[3,3,self.gfdim*2,self.gfdim*8])\n",
    "        conv3 = tf.nn.conv2d(input=rel2, filter=Wc3, strides=[1,1,1,1],padding='SAME')\n",
    "        bn4 = yf.layers.batch_normalisation(conv3)\n",
    "        \n",
    "        sum1 = rs1 + gn4\n",
    "        rel3 = tf.nn.relu(sum1)\n",
    "        initializer = tf.truncated_normal_initializer(stddev=0.02)\n",
    "        convT1 = tf.image.resize_nearest_neighbor(size=[self.s8,self.s8])\n",
    "        Wc4 = tf.get_variable(name='Wc4',initializer=initializer,shape=[3,3,self.gfdim*8,self.gfdim*4])\n",
    "        conv4 = tf.nn.conv2d(input = convT1, filter = Wc4, strides = [1,1,1,1],padding = 'SAME')\n",
    "        bn5 = tf.layers.batch_normalization(conv4)\n",
    "        \n",
    "        "
   ]
  },
  {
   "cell_type": "code",
   "execution_count": null,
   "metadata": {
    "collapsed": true
   },
   "outputs": [],
   "source": []
  }
 ],
 "metadata": {
  "kernelspec": {
   "display_name": "Python 3",
   "language": "python",
   "name": "python3"
  },
  "language_info": {
   "codemirror_mode": {
    "name": "ipython",
    "version": 3
   },
   "file_extension": ".py",
   "mimetype": "text/x-python",
   "name": "python",
   "nbconvert_exporter": "python",
   "pygments_lexer": "ipython3",
   "version": "3.6.2"
  }
 },
 "nbformat": 4,
 "nbformat_minor": 2
}
